{
 "cells": [
  {
   "cell_type": "markdown",
   "metadata": {},
   "source": [
    "# Wrangle Report"
   ]
  },
  {
   "cell_type": "markdown",
   "metadata": {},
   "source": [
    "This report aim is about the data wrangling that was conducted in Data Analyst Nanodegree Project \"Wrangle and Analyze Data\"."
   ]
  },
  {
   "cell_type": "markdown",
   "metadata": {},
   "source": [
    "## Project Report"
   ]
  },
  {
   "cell_type": "markdown",
   "metadata": {},
   "source": [
    "The task is as follows:\n",
    "    1. Gathering Data\n",
    "    2. Assessing Data\n",
    "    3. Cleaning Data"
   ]
  },
  {
   "cell_type": "markdown",
   "metadata": {},
   "source": [
    "## 1.Gathering Data"
   ]
  },
  {
   "cell_type": "markdown",
   "metadata": {},
   "source": [
    "The Data we'll be wrangling is tweet archive of Twitter user @dog_rates (https://twitter.com/dog_rates)."
   ]
  },
  {
   "cell_type": "markdown",
   "metadata": {},
   "source": [
    "### this project uses three different daset obtained as following:"
   ]
  },
  {
   "cell_type": "markdown",
   "metadata": {},
   "source": [
    "- **Twitter Archive file**:  this file was provided by udacity and can be downloaded manually as. ()"
   ]
  },
  {
   "cell_type": "markdown",
   "metadata": {},
   "source": [
    "- **Tweet Image Predictions**: this file is downloaded programatically using pythons request library adn saved locally to image_prediction.tsv file"
   ]
  },
  {
   "cell_type": "markdown",
   "metadata": {},
   "source": [
    "- **Twitter API or JSON**: this file is also provided by udacity. this consists of JSON objects in file name called tweet_json.txt file."
   ]
  },
  {
   "cell_type": "markdown",
   "metadata": {},
   "source": [
    "## 2. Assessing Data"
   ]
  },
  {
   "cell_type": "markdown",
   "metadata": {},
   "source": [
    "I used pandas info method to spot datatypes and other quality issue.\n",
    "i used code such as head(),tail(), describe(), shape() and info() methods.\n",
    "\n",
    "here is a list of issue that have been discovered:\n",
    "\n",
    "**Quality Issue**\n",
    "- Data contained retweets\n",
    "- Tweet_id,Timestamp was of incorrect data types\n",
    "- Undesired columns were present\n",
    "- Name contained inaccuracies\n",
    "\n",
    "**Tidiness issues**\n",
    "- combining all dataframes together as they contained info about same tweets"
   ]
  },
  {
   "cell_type": "markdown",
   "metadata": {},
   "source": [
    "## 3.Cleaning Data"
   ]
  },
  {
   "cell_type": "markdown",
   "metadata": {},
   "source": [
    "The data have been cleaned by programmatic method.\n",
    "following methods and techniques were used:\n",
    "- merge()\n",
    "- drop()\n",
    "- islower()\n",
    "- regular expressions\n",
    "- replace\n",
    "- extract()"
   ]
  },
  {
   "cell_type": "markdown",
   "metadata": {},
   "source": [
    "## 4. Storing Data"
   ]
  },
  {
   "cell_type": "markdown",
   "metadata": {},
   "source": [
    "After the completion of cleaning Data. I stored the dataframe in twitter_archive_master.csv file"
   ]
  },
  {
   "cell_type": "markdown",
   "metadata": {},
   "source": [
    "## Conclusion"
   ]
  },
  {
   "cell_type": "markdown",
   "metadata": {},
   "source": [
    "Data wrangling is a core skill that whoever handles data should be familiar with."
   ]
  },
  {
   "cell_type": "markdown",
   "metadata": {},
   "source": [
    "this project concludes that we will have to use pyhton and its various libraries to scrape data from various sources in various formats and clean various quality and tidiness issues, before any data analysis can be performed."
   ]
  },
  {
   "cell_type": "code",
   "execution_count": null,
   "metadata": {},
   "outputs": [],
   "source": []
  }
 ],
 "metadata": {
  "kernelspec": {
   "display_name": "Python 3",
   "language": "python",
   "name": "python3"
  },
  "language_info": {
   "codemirror_mode": {
    "name": "ipython",
    "version": 3
   },
   "file_extension": ".py",
   "mimetype": "text/x-python",
   "name": "python",
   "nbconvert_exporter": "python",
   "pygments_lexer": "ipython3",
   "version": "3.7.6"
  }
 },
 "nbformat": 4,
 "nbformat_minor": 2
}
